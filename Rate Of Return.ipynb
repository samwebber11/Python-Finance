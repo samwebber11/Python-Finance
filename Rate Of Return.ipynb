{
 "cells": [
  {
   "cell_type": "code",
   "execution_count": 15,
   "metadata": {},
   "outputs": [],
   "source": [
    "import pandas as pd\n",
    "import numpy as np\n",
    "import matplotlib.pyplot as mpl\n",
    "import math as mt\n",
    "from pandas_datareader import data as wb "
   ]
  },
  {
   "cell_type": "code",
   "execution_count": 37,
   "metadata": {},
   "outputs": [],
   "source": [
    "df = wb.DataReader('PG',data_source = 'yahoo',start='1-1-1995')['Adj Close']"
   ]
  },
  {
   "cell_type": "code",
   "execution_count": 38,
   "metadata": {},
   "outputs": [
    {
     "data": {
      "text/plain": [
       "Date\n",
       "1995-01-03    6.580194\n",
       "1995-01-04    6.527450\n",
       "1995-01-05    6.435142\n",
       "1995-01-06    6.448325\n",
       "1995-01-09    6.421953\n",
       "Name: Adj Close, dtype: float64"
      ]
     },
     "execution_count": 38,
     "metadata": {},
     "output_type": "execute_result"
    }
   ],
   "source": [
    "df.head()"
   ]
  },
  {
   "cell_type": "code",
   "execution_count": 39,
   "metadata": {},
   "outputs": [
    {
     "data": {
      "text/plain": [
       "Date\n",
       "2018-12-17    92.769997\n",
       "2018-12-18    92.489998\n",
       "2018-12-19    91.760002\n",
       "2018-12-20    90.980003\n",
       "2018-12-21    90.970001\n",
       "Name: Adj Close, dtype: float64"
      ]
     },
     "execution_count": 39,
     "metadata": {},
     "output_type": "execute_result"
    }
   ],
   "source": [
    "df.tail()"
   ]
  },
  {
   "cell_type": "code",
   "execution_count": 40,
   "metadata": {},
   "outputs": [
    {
     "ename": "AttributeError",
     "evalue": "'Series' object has no attribute 'info'",
     "output_type": "error",
     "traceback": [
      "\u001b[0;31m---------------------------------------------------------------------------\u001b[0m",
      "\u001b[0;31mAttributeError\u001b[0m                            Traceback (most recent call last)",
      "\u001b[0;32m<ipython-input-40-a74c58233b9e>\u001b[0m in \u001b[0;36m<module>\u001b[0;34m()\u001b[0m\n\u001b[0;32m----> 1\u001b[0;31m \u001b[0mdf\u001b[0m\u001b[0;34m.\u001b[0m\u001b[0minfo\u001b[0m\u001b[0;34m(\u001b[0m\u001b[0;34m)\u001b[0m\u001b[0;34m\u001b[0m\u001b[0m\n\u001b[0m",
      "\u001b[0;32m~/anaconda3/lib/python3.6/site-packages/pandas/core/generic.py\u001b[0m in \u001b[0;36m__getattr__\u001b[0;34m(self, name)\u001b[0m\n\u001b[1;32m   4370\u001b[0m             \u001b[0;32mif\u001b[0m \u001b[0mself\u001b[0m\u001b[0;34m.\u001b[0m\u001b[0m_info_axis\u001b[0m\u001b[0;34m.\u001b[0m\u001b[0m_can_hold_identifiers_and_holds_name\u001b[0m\u001b[0;34m(\u001b[0m\u001b[0mname\u001b[0m\u001b[0;34m)\u001b[0m\u001b[0;34m:\u001b[0m\u001b[0;34m\u001b[0m\u001b[0m\n\u001b[1;32m   4371\u001b[0m                 \u001b[0;32mreturn\u001b[0m \u001b[0mself\u001b[0m\u001b[0;34m[\u001b[0m\u001b[0mname\u001b[0m\u001b[0;34m]\u001b[0m\u001b[0;34m\u001b[0m\u001b[0m\n\u001b[0;32m-> 4372\u001b[0;31m             \u001b[0;32mreturn\u001b[0m \u001b[0mobject\u001b[0m\u001b[0;34m.\u001b[0m\u001b[0m__getattribute__\u001b[0m\u001b[0;34m(\u001b[0m\u001b[0mself\u001b[0m\u001b[0;34m,\u001b[0m \u001b[0mname\u001b[0m\u001b[0;34m)\u001b[0m\u001b[0;34m\u001b[0m\u001b[0m\n\u001b[0m\u001b[1;32m   4373\u001b[0m \u001b[0;34m\u001b[0m\u001b[0m\n\u001b[1;32m   4374\u001b[0m     \u001b[0;32mdef\u001b[0m \u001b[0m__setattr__\u001b[0m\u001b[0;34m(\u001b[0m\u001b[0mself\u001b[0m\u001b[0;34m,\u001b[0m \u001b[0mname\u001b[0m\u001b[0;34m,\u001b[0m \u001b[0mvalue\u001b[0m\u001b[0;34m)\u001b[0m\u001b[0;34m:\u001b[0m\u001b[0;34m\u001b[0m\u001b[0m\n",
      "\u001b[0;31mAttributeError\u001b[0m: 'Series' object has no attribute 'info'"
     ]
    }
   ],
   "source": []
  },
  {
   "cell_type": "code",
   "execution_count": 41,
   "metadata": {},
   "outputs": [],
   "source": [
    "simple_return = (df/df.shift(1))-1"
   ]
  },
  {
   "cell_type": "code",
   "execution_count": 42,
   "metadata": {},
   "outputs": [
    {
     "name": "stdout",
     "output_type": "stream",
     "text": [
      "Date\n",
      "1995-01-03         NaN\n",
      "1995-01-04   -0.008016\n",
      "1995-01-05   -0.014142\n",
      "1995-01-06    0.002049\n",
      "1995-01-09   -0.004090\n",
      "1995-01-10    0.012320\n",
      "1995-01-11   -0.002028\n",
      "1995-01-12    0.010162\n",
      "1995-01-13    0.029230\n",
      "1995-01-16    0.008000\n",
      "1995-01-17    0.003968\n",
      "1995-01-18   -0.021739\n",
      "1995-01-19   -0.004040\n",
      "1995-01-20   -0.004057\n",
      "1995-01-23    0.010184\n",
      "1995-01-24   -0.002016\n",
      "1995-01-25    0.014142\n",
      "1995-01-26    0.003984\n",
      "1995-01-27    0.027778\n",
      "1995-01-30    0.015444\n",
      "1995-01-31   -0.009506\n",
      "1995-02-01   -0.019194\n",
      "1995-02-02    0.007828\n",
      "1995-02-03    0.009709\n",
      "1995-02-06    0.023077\n",
      "1995-02-07   -0.001880\n",
      "1995-02-08   -0.011300\n",
      "1995-02-09   -0.001904\n",
      "1995-02-10   -0.001909\n",
      "1995-02-13    0.007648\n",
      "                ...   \n",
      "2018-11-08    0.000767\n",
      "2018-11-09    0.011493\n",
      "2018-11-12    0.003138\n",
      "2018-11-13    0.008306\n",
      "2018-11-14    0.000214\n",
      "2018-11-15    0.003637\n",
      "2018-11-16   -0.000107\n",
      "2018-11-19   -0.005649\n",
      "2018-11-20   -0.012756\n",
      "2018-11-21   -0.007492\n",
      "2018-11-23    0.001422\n",
      "2018-11-26    0.004370\n",
      "2018-11-27    0.008484\n",
      "2018-11-28    0.003128\n",
      "2018-11-29   -0.002043\n",
      "2018-11-30    0.018207\n",
      "2018-12-03   -0.012591\n",
      "2018-12-04   -0.000107\n",
      "2018-12-06    0.002572\n",
      "2018-12-07   -0.011758\n",
      "2018-12-10    0.006274\n",
      "2018-12-11    0.009459\n",
      "2018-12-12    0.001278\n",
      "2018-12-13    0.026162\n",
      "2018-12-14    0.001555\n",
      "2018-12-17   -0.040046\n",
      "2018-12-18   -0.003018\n",
      "2018-12-19   -0.007893\n",
      "2018-12-20   -0.008500\n",
      "2018-12-21   -0.000110\n",
      "Name: Adj Close, Length: 6037, dtype: float64\n"
     ]
    }
   ],
   "source": [
    "print (simple_return)"
   ]
  },
  {
   "cell_type": "code",
   "execution_count": 28,
   "metadata": {},
   "outputs": [],
   "source": [
    "df['log_return'] = np.log(df['Adj Close']/df['Adj Close'].shift(1))"
   ]
  },
  {
   "cell_type": "code",
   "execution_count": 43,
   "metadata": {},
   "outputs": [
    {
     "data": {
      "image/png": "[encoded data removed]",
      "text/plain": [
       "<Figure size 576x360 with 1 Axes>"
      ]
     },
     "metadata": {},
     "output_type": "display_data"
    }
   ],
   "source": [
    "simple_return.plot(figsize=(8, 5))\n",
    "mpl.show()"
   ]
  },
  {
   "cell_type": "code",
   "execution_count": 36,
   "metadata": {},
   "outputs": [
    {
     "name": "stdout",
     "output_type": "stream",
     "text": [
      "13.381000000000002 %\n"
     ]
    }
   ],
   "source": [
    "avg_return  = df['simple_return'].mean()*250\n",
    "avg_return\n",
    "print ( str ( round(avg_return,5) * 100 ), '%' )"
   ]
  },
  {
   "cell_type": "markdown",
   "metadata": {},
   "source": [
    "Log Return"
   ]
  },
  {
   "cell_type": "code",
   "execution_count": 30,
   "metadata": {},
   "outputs": [
    {
     "name": "stdout",
     "output_type": "stream",
     "text": [
      "Date\n",
      "1995-01-03         NaN\n",
      "1995-01-04   -0.008048\n",
      "1995-01-05   -0.014243\n",
      "1995-01-06    0.002047\n",
      "1995-01-09   -0.004098\n",
      "1995-01-10    0.012245\n",
      "1995-01-11   -0.002030\n",
      "1995-01-12    0.010111\n",
      "1995-01-13    0.028811\n",
      "1995-01-16    0.007968\n",
      "1995-01-17    0.003960\n",
      "1995-01-18   -0.021979\n",
      "1995-01-19   -0.004048\n",
      "1995-01-20   -0.004065\n",
      "1995-01-23    0.010132\n",
      "1995-01-24   -0.002019\n",
      "1995-01-25    0.014043\n",
      "1995-01-26    0.003976\n",
      "1995-01-27    0.027399\n",
      "1995-01-30    0.015326\n",
      "1995-01-31   -0.009551\n",
      "1995-02-01   -0.019380\n",
      "1995-02-02    0.007797\n",
      "1995-02-03    0.009662\n",
      "1995-02-06    0.022815\n",
      "1995-02-07   -0.001881\n",
      "1995-02-08   -0.011364\n",
      "1995-02-09   -0.001906\n",
      "1995-02-10   -0.001910\n",
      "1995-02-13    0.007619\n",
      "                ...   \n",
      "2018-11-08    0.000766\n",
      "2018-11-09    0.011427\n",
      "2018-11-12    0.003133\n",
      "2018-11-13    0.008272\n",
      "2018-11-14    0.000214\n",
      "2018-11-15    0.003630\n",
      "2018-11-16   -0.000107\n",
      "2018-11-19   -0.005665\n",
      "2018-11-20   -0.012838\n",
      "2018-11-21   -0.007520\n",
      "2018-11-23    0.001421\n",
      "2018-11-26    0.004360\n",
      "2018-11-27    0.008448\n",
      "2018-11-28    0.003123\n",
      "2018-11-29   -0.002045\n",
      "2018-11-30    0.018044\n",
      "2018-12-03   -0.012671\n",
      "2018-12-04   -0.000107\n",
      "2018-12-06    0.002569\n",
      "2018-12-07   -0.011828\n",
      "2018-12-10    0.006254\n",
      "2018-12-11    0.009415\n",
      "2018-12-12    0.001277\n",
      "2018-12-13    0.025825\n",
      "2018-12-14    0.001553\n",
      "2018-12-17   -0.040869\n",
      "2018-12-18   -0.003023\n",
      "2018-12-19   -0.007924\n",
      "2018-12-20   -0.008537\n",
      "2018-12-21   -0.000110\n",
      "Name: log_return, Length: 6037, dtype: float64\n"
     ]
    }
   ],
   "source": [
    "print (df['log_return'])"
   ]
  },
  {
   "cell_type": "code",
   "execution_count": 31,
   "metadata": {},
   "outputs": [
    {
     "data": {
      "image/png": "[encoded data removed]",
      "text/plain": [
       "<Figure size 576x360 with 1 Axes>"
      ]
     },
     "metadata": {},
     "output_type": "display_data"
    }
   ],
   "source": [
    "df['log_return'].plot(figsize=(8,5))\n",
    "mpl.show()"
   ]
  },
  {
   "cell_type": "code",
   "execution_count": 33,
   "metadata": {},
   "outputs": [
    {
     "data": {
      "text/plain": [
       "0.1087833621249399"
      ]
     },
     "execution_count": 33,
     "metadata": {},
     "output_type": "execute_result"
    }
   ],
   "source": [
    "avg_return_log = df['log_return'].mean()*250\n",
    "avg_return_log"
   ]
  },
  {
   "cell_type": "code",
   "execution_count": 34,
   "metadata": {},
   "outputs": [
    {
     "name": "stdout",
     "output_type": "stream",
     "text": [
      "10.878 %\n"
     ]
    }
   ],
   "source": [
    "print (str(round(avg_return_log,5)*100),'%')"
   ]
  },
  {
   "cell_type": "code",
   "execution_count": null,
   "metadata": {},
   "outputs": [],
   "source": []
  }
 ],
 "metadata": {
  "kernelspec": {
   "display_name": "Python 3",
   "language": "python",
   "name": "python3"
  },
  "language_info": {
   "codemirror_mode": {
    "name": "ipython",
    "version": 3
   },
   "file_extension": ".py",
   "mimetype": "text/x-python",
   "name": "python",
   "nbconvert_exporter": "python",
   "pygments_lexer": "ipython3",
   "version": "3.6.5"
  }
 },
 "nbformat": 4,
 "nbformat_minor": 2
}
