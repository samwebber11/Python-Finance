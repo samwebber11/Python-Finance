{
 "cells": [
  {
   "cell_type": "code",
   "execution_count": 2,
   "metadata": {},
   "outputs": [],
   "source": [
    "import numpy  as np\n",
    "import pandas as pd\n",
    "from pandas_datareader import data as wb\n",
    "import matplotlib.pyplot as plt\n",
    "%matplotlib inline"
   ]
  },
  {
   "cell_type": "code",
   "execution_count": 3,
   "metadata": {},
   "outputs": [],
   "source": [
    "x = ['PG','^GSPC']\n",
    "df = pd.DataFrame()\n",
    "for t in x:\n",
    "    df[t] = wb.DataReader(t,data_source = 'yahoo', start = '2010-1-1')['Adj Close']"
   ]
  },
  {
   "cell_type": "code",
   "execution_count": 4,
   "metadata": {},
   "outputs": [
    {
     "data": {
      "text/html": [
       "<div>\n",
       "<style scoped>\n",
       "    .dataframe tbody tr th:only-of-type {\n",
       "        vertical-align: middle;\n",
       "    }\n",
       "\n",
       "    .dataframe tbody tr th {\n",
       "        vertical-align: top;\n",
       "    }\n",
       "\n",
       "    .dataframe thead th {\n",
       "        text-align: right;\n",
       "    }\n",
       "</style>\n",
       "<table border=\"1\" class=\"dataframe\">\n",
       "  <thead>\n",
       "    <tr style=\"text-align: right;\">\n",
       "      <th></th>\n",
       "      <th>PG</th>\n",
       "      <th>^GSPC</th>\n",
       "    </tr>\n",
       "    <tr>\n",
       "      <th>Date</th>\n",
       "      <th></th>\n",
       "      <th></th>\n",
       "    </tr>\n",
       "  </thead>\n",
       "  <tbody>\n",
       "    <tr>\n",
       "      <th>2009-12-31</th>\n",
       "      <td>45.503147</td>\n",
       "      <td>1115.099976</td>\n",
       "    </tr>\n",
       "    <tr>\n",
       "      <th>2010-01-04</th>\n",
       "      <td>45.870895</td>\n",
       "      <td>1132.989990</td>\n",
       "    </tr>\n",
       "    <tr>\n",
       "      <th>2010-01-05</th>\n",
       "      <td>45.885899</td>\n",
       "      <td>1136.520020</td>\n",
       "    </tr>\n",
       "    <tr>\n",
       "      <th>2010-01-06</th>\n",
       "      <td>45.668251</td>\n",
       "      <td>1137.140015</td>\n",
       "    </tr>\n",
       "    <tr>\n",
       "      <th>2010-01-07</th>\n",
       "      <td>45.420593</td>\n",
       "      <td>1141.689941</td>\n",
       "    </tr>\n",
       "    <tr>\n",
       "      <th>2010-01-08</th>\n",
       "      <td>45.360538</td>\n",
       "      <td>1144.979980</td>\n",
       "    </tr>\n",
       "    <tr>\n",
       "      <th>2010-01-11</th>\n",
       "      <td>45.180416</td>\n",
       "      <td>1146.979980</td>\n",
       "    </tr>\n",
       "    <tr>\n",
       "      <th>2010-01-12</th>\n",
       "      <td>45.698273</td>\n",
       "      <td>1136.219971</td>\n",
       "    </tr>\n",
       "    <tr>\n",
       "      <th>2010-01-13</th>\n",
       "      <td>46.171093</td>\n",
       "      <td>1145.680054</td>\n",
       "    </tr>\n",
       "    <tr>\n",
       "      <th>2010-01-14</th>\n",
       "      <td>46.216125</td>\n",
       "      <td>1148.459961</td>\n",
       "    </tr>\n",
       "    <tr>\n",
       "      <th>2010-01-15</th>\n",
       "      <td>45.645741</td>\n",
       "      <td>1136.030029</td>\n",
       "    </tr>\n",
       "    <tr>\n",
       "      <th>2010-01-19</th>\n",
       "      <td>46.321194</td>\n",
       "      <td>1150.229980</td>\n",
       "    </tr>\n",
       "    <tr>\n",
       "      <th>2010-01-20</th>\n",
       "      <td>45.693798</td>\n",
       "      <td>1138.040039</td>\n",
       "    </tr>\n",
       "    <tr>\n",
       "      <th>2010-01-21</th>\n",
       "      <td>45.232708</td>\n",
       "      <td>1116.479980</td>\n",
       "    </tr>\n",
       "    <tr>\n",
       "      <th>2010-01-22</th>\n",
       "      <td>45.587978</td>\n",
       "      <td>1091.760010</td>\n",
       "    </tr>\n",
       "    <tr>\n",
       "      <th>2010-01-25</th>\n",
       "      <td>45.829865</td>\n",
       "      <td>1096.780029</td>\n",
       "    </tr>\n",
       "    <tr>\n",
       "      <th>2010-01-26</th>\n",
       "      <td>45.875225</td>\n",
       "      <td>1092.170044</td>\n",
       "    </tr>\n",
       "    <tr>\n",
       "      <th>2010-01-27</th>\n",
       "      <td>45.965923</td>\n",
       "      <td>1097.500000</td>\n",
       "    </tr>\n",
       "    <tr>\n",
       "      <th>2010-01-28</th>\n",
       "      <td>46.623558</td>\n",
       "      <td>1084.530029</td>\n",
       "    </tr>\n",
       "    <tr>\n",
       "      <th>2010-01-29</th>\n",
       "      <td>46.525280</td>\n",
       "      <td>1073.869995</td>\n",
       "    </tr>\n",
       "    <tr>\n",
       "      <th>2010-02-01</th>\n",
       "      <td>46.857891</td>\n",
       "      <td>1089.189941</td>\n",
       "    </tr>\n",
       "    <tr>\n",
       "      <th>2010-02-02</th>\n",
       "      <td>47.545746</td>\n",
       "      <td>1103.319946</td>\n",
       "    </tr>\n",
       "    <tr>\n",
       "      <th>2010-02-03</th>\n",
       "      <td>47.356770</td>\n",
       "      <td>1097.280029</td>\n",
       "    </tr>\n",
       "    <tr>\n",
       "      <th>2010-02-04</th>\n",
       "      <td>46.411903</td>\n",
       "      <td>1063.109985</td>\n",
       "    </tr>\n",
       "    <tr>\n",
       "      <th>2010-02-05</th>\n",
       "      <td>46.336308</td>\n",
       "      <td>1066.189941</td>\n",
       "    </tr>\n",
       "    <tr>\n",
       "      <th>2010-02-08</th>\n",
       "      <td>46.117100</td>\n",
       "      <td>1056.739990</td>\n",
       "    </tr>\n",
       "    <tr>\n",
       "      <th>2010-02-09</th>\n",
       "      <td>46.684021</td>\n",
       "      <td>1070.520020</td>\n",
       "    </tr>\n",
       "    <tr>\n",
       "      <th>2010-02-10</th>\n",
       "      <td>46.615993</td>\n",
       "      <td>1068.130005</td>\n",
       "    </tr>\n",
       "    <tr>\n",
       "      <th>2010-02-11</th>\n",
       "      <td>46.835205</td>\n",
       "      <td>1078.469971</td>\n",
       "    </tr>\n",
       "    <tr>\n",
       "      <th>2010-02-12</th>\n",
       "      <td>46.684021</td>\n",
       "      <td>1075.510010</td>\n",
       "    </tr>\n",
       "    <tr>\n",
       "      <th>...</th>\n",
       "      <td>...</td>\n",
       "      <td>...</td>\n",
       "    </tr>\n",
       "    <tr>\n",
       "      <th>2018-11-08</th>\n",
       "      <td>91.360001</td>\n",
       "      <td>2806.830078</td>\n",
       "    </tr>\n",
       "    <tr>\n",
       "      <th>2018-11-09</th>\n",
       "      <td>92.410004</td>\n",
       "      <td>2781.010010</td>\n",
       "    </tr>\n",
       "    <tr>\n",
       "      <th>2018-11-12</th>\n",
       "      <td>92.699997</td>\n",
       "      <td>2726.219971</td>\n",
       "    </tr>\n",
       "    <tr>\n",
       "      <th>2018-11-13</th>\n",
       "      <td>93.470001</td>\n",
       "      <td>2722.179932</td>\n",
       "    </tr>\n",
       "    <tr>\n",
       "      <th>2018-11-14</th>\n",
       "      <td>93.489998</td>\n",
       "      <td>2701.580078</td>\n",
       "    </tr>\n",
       "    <tr>\n",
       "      <th>2018-11-15</th>\n",
       "      <td>93.830002</td>\n",
       "      <td>2730.199951</td>\n",
       "    </tr>\n",
       "    <tr>\n",
       "      <th>2018-11-16</th>\n",
       "      <td>93.820000</td>\n",
       "      <td>2736.270020</td>\n",
       "    </tr>\n",
       "    <tr>\n",
       "      <th>2018-11-19</th>\n",
       "      <td>93.290001</td>\n",
       "      <td>2690.729980</td>\n",
       "    </tr>\n",
       "    <tr>\n",
       "      <th>2018-11-20</th>\n",
       "      <td>92.099998</td>\n",
       "      <td>2641.889893</td>\n",
       "    </tr>\n",
       "    <tr>\n",
       "      <th>2018-11-21</th>\n",
       "      <td>91.410004</td>\n",
       "      <td>2649.929932</td>\n",
       "    </tr>\n",
       "    <tr>\n",
       "      <th>2018-11-23</th>\n",
       "      <td>91.540001</td>\n",
       "      <td>2632.560059</td>\n",
       "    </tr>\n",
       "    <tr>\n",
       "      <th>2018-11-26</th>\n",
       "      <td>91.940002</td>\n",
       "      <td>2673.449951</td>\n",
       "    </tr>\n",
       "    <tr>\n",
       "      <th>2018-11-27</th>\n",
       "      <td>92.720001</td>\n",
       "      <td>2682.169922</td>\n",
       "    </tr>\n",
       "    <tr>\n",
       "      <th>2018-11-28</th>\n",
       "      <td>93.010002</td>\n",
       "      <td>2743.790039</td>\n",
       "    </tr>\n",
       "    <tr>\n",
       "      <th>2018-11-29</th>\n",
       "      <td>92.820000</td>\n",
       "      <td>2737.800049</td>\n",
       "    </tr>\n",
       "    <tr>\n",
       "      <th>2018-11-30</th>\n",
       "      <td>94.510002</td>\n",
       "      <td>2760.169922</td>\n",
       "    </tr>\n",
       "    <tr>\n",
       "      <th>2018-12-03</th>\n",
       "      <td>93.320000</td>\n",
       "      <td>2790.370117</td>\n",
       "    </tr>\n",
       "    <tr>\n",
       "      <th>2018-12-04</th>\n",
       "      <td>93.309998</td>\n",
       "      <td>2700.060059</td>\n",
       "    </tr>\n",
       "    <tr>\n",
       "      <th>2018-12-06</th>\n",
       "      <td>93.550003</td>\n",
       "      <td>2695.949951</td>\n",
       "    </tr>\n",
       "    <tr>\n",
       "      <th>2018-12-07</th>\n",
       "      <td>92.449997</td>\n",
       "      <td>2633.080078</td>\n",
       "    </tr>\n",
       "    <tr>\n",
       "      <th>2018-12-10</th>\n",
       "      <td>93.029999</td>\n",
       "      <td>2637.719971</td>\n",
       "    </tr>\n",
       "    <tr>\n",
       "      <th>2018-12-11</th>\n",
       "      <td>93.910004</td>\n",
       "      <td>2636.780029</td>\n",
       "    </tr>\n",
       "    <tr>\n",
       "      <th>2018-12-12</th>\n",
       "      <td>94.029999</td>\n",
       "      <td>2651.070068</td>\n",
       "    </tr>\n",
       "    <tr>\n",
       "      <th>2018-12-13</th>\n",
       "      <td>96.489998</td>\n",
       "      <td>2650.540039</td>\n",
       "    </tr>\n",
       "    <tr>\n",
       "      <th>2018-12-14</th>\n",
       "      <td>96.639999</td>\n",
       "      <td>2599.949951</td>\n",
       "    </tr>\n",
       "    <tr>\n",
       "      <th>2018-12-17</th>\n",
       "      <td>92.769997</td>\n",
       "      <td>2545.939941</td>\n",
       "    </tr>\n",
       "    <tr>\n",
       "      <th>2018-12-18</th>\n",
       "      <td>92.489998</td>\n",
       "      <td>2546.159912</td>\n",
       "    </tr>\n",
       "    <tr>\n",
       "      <th>2018-12-19</th>\n",
       "      <td>91.760002</td>\n",
       "      <td>2506.959961</td>\n",
       "    </tr>\n",
       "    <tr>\n",
       "      <th>2018-12-20</th>\n",
       "      <td>90.980003</td>\n",
       "      <td>2467.419922</td>\n",
       "    </tr>\n",
       "    <tr>\n",
       "      <th>2018-12-21</th>\n",
       "      <td>90.970001</td>\n",
       "      <td>2416.580078</td>\n",
       "    </tr>\n",
       "  </tbody>\n",
       "</table>\n",
       "<p>2260 rows × 2 columns</p>\n",
       "</div>"
      ],
      "text/plain": [
       "                   PG        ^GSPC\n",
       "Date                              \n",
       "2009-12-31  45.503147  1115.099976\n",
       "2010-01-04  45.870895  1132.989990\n",
       "2010-01-05  45.885899  1136.520020\n",
       "2010-01-06  45.668251  1137.140015\n",
       "2010-01-07  45.420593  1141.689941\n",
       "2010-01-08  45.360538  1144.979980\n",
       "2010-01-11  45.180416  1146.979980\n",
       "2010-01-12  45.698273  1136.219971\n",
       "2010-01-13  46.171093  1145.680054\n",
       "2010-01-14  46.216125  1148.459961\n",
       "2010-01-15  45.645741  1136.030029\n",
       "2010-01-19  46.321194  1150.229980\n",
       "2010-01-20  45.693798  1138.040039\n",
       "2010-01-21  45.232708  1116.479980\n",
       "2010-01-22  45.587978  1091.760010\n",
       "2010-01-25  45.829865  1096.780029\n",
       "2010-01-26  45.875225  1092.170044\n",
       "2010-01-27  45.965923  1097.500000\n",
       "2010-01-28  46.623558  1084.530029\n",
       "2010-01-29  46.525280  1073.869995\n",
       "2010-02-01  46.857891  1089.189941\n",
       "2010-02-02  47.545746  1103.319946\n",
       "2010-02-03  47.356770  1097.280029\n",
       "2010-02-04  46.411903  1063.109985\n",
       "2010-02-05  46.336308  1066.189941\n",
       "2010-02-08  46.117100  1056.739990\n",
       "2010-02-09  46.684021  1070.520020\n",
       "2010-02-10  46.615993  1068.130005\n",
       "2010-02-11  46.835205  1078.469971\n",
       "2010-02-12  46.684021  1075.510010\n",
       "...               ...          ...\n",
       "2018-11-08  91.360001  2806.830078\n",
       "2018-11-09  92.410004  2781.010010\n",
       "2018-11-12  92.699997  2726.219971\n",
       "2018-11-13  93.470001  2722.179932\n",
       "2018-11-14  93.489998  2701.580078\n",
       "2018-11-15  93.830002  2730.199951\n",
       "2018-11-16  93.820000  2736.270020\n",
       "2018-11-19  93.290001  2690.729980\n",
       "2018-11-20  92.099998  2641.889893\n",
       "2018-11-21  91.410004  2649.929932\n",
       "2018-11-23  91.540001  2632.560059\n",
       "2018-11-26  91.940002  2673.449951\n",
       "2018-11-27  92.720001  2682.169922\n",
       "2018-11-28  93.010002  2743.790039\n",
       "2018-11-29  92.820000  2737.800049\n",
       "2018-11-30  94.510002  2760.169922\n",
       "2018-12-03  93.320000  2790.370117\n",
       "2018-12-04  93.309998  2700.060059\n",
       "2018-12-06  93.550003  2695.949951\n",
       "2018-12-07  92.449997  2633.080078\n",
       "2018-12-10  93.029999  2637.719971\n",
       "2018-12-11  93.910004  2636.780029\n",
       "2018-12-12  94.029999  2651.070068\n",
       "2018-12-13  96.489998  2650.540039\n",
       "2018-12-14  96.639999  2599.949951\n",
       "2018-12-17  92.769997  2545.939941\n",
       "2018-12-18  92.489998  2546.159912\n",
       "2018-12-19  91.760002  2506.959961\n",
       "2018-12-20  90.980003  2467.419922\n",
       "2018-12-21  90.970001  2416.580078\n",
       "\n",
       "[2260 rows x 2 columns]"
      ]
     },
     "execution_count": 4,
     "metadata": {},
     "output_type": "execute_result"
    }
   ],
   "source": [
    "df"
   ]
  },
  {
   "cell_type": "code",
   "execution_count": 6,
   "metadata": {},
   "outputs": [
    {
     "data": {
      "text/plain": [
       "<matplotlib.axes._subplots.AxesSubplot at 0x7f65279c06d8>"
      ]
     },
     "execution_count": 6,
     "metadata": {},
     "output_type": "execute_result"
    },
    {
     "data": {
      "image/png": "[encoded data removed]",
      "text/plain": [
       "<Figure size 720x432 with 1 Axes>"
      ]
     },
     "metadata": {},
     "output_type": "display_data"
    }
   ],
   "source": [
    "((df/df.iloc[0])*100).plot(figsize = (10,6))"
   ]
  },
  {
   "cell_type": "code",
   "execution_count": 7,
   "metadata": {},
   "outputs": [
    {
     "data": {
      "text/plain": [
       "PG        16759.442956\n",
       "^GSPC    463780.189035\n",
       "dtype: float64"
      ]
     },
     "execution_count": 7,
     "metadata": {},
     "output_type": "execute_result"
    }
   ],
   "source": [
    "df.mean()*250"
   ]
  },
  {
   "cell_type": "code",
   "execution_count": 8,
   "metadata": {},
   "outputs": [],
   "source": [
    "log_return = np.log(df/df.shift(1))"
   ]
  },
  {
   "cell_type": "code",
   "execution_count": 9,
   "metadata": {},
   "outputs": [
    {
     "data": {
      "text/plain": [
       "PG       0.076665\n",
       "^GSPC    0.085592\n",
       "dtype: float64"
      ]
     },
     "execution_count": 9,
     "metadata": {},
     "output_type": "execute_result"
    }
   ],
   "source": [
    "log_return.mean()*250"
   ]
  },
  {
   "cell_type": "code",
   "execution_count": 10,
   "metadata": {},
   "outputs": [
    {
     "data": {
      "text/html": [
       "<div>\n",
       "<style scoped>\n",
       "    .dataframe tbody tr th:only-of-type {\n",
       "        vertical-align: middle;\n",
       "    }\n",
       "\n",
       "    .dataframe tbody tr th {\n",
       "        vertical-align: top;\n",
       "    }\n",
       "\n",
       "    .dataframe thead th {\n",
       "        text-align: right;\n",
       "    }\n",
       "</style>\n",
       "<table border=\"1\" class=\"dataframe\">\n",
       "  <thead>\n",
       "    <tr style=\"text-align: right;\">\n",
       "      <th></th>\n",
       "      <th>PG</th>\n",
       "      <th>^GSPC</th>\n",
       "    </tr>\n",
       "  </thead>\n",
       "  <tbody>\n",
       "    <tr>\n",
       "      <th>PG</th>\n",
       "      <td>0.020823</td>\n",
       "      <td>0.011351</td>\n",
       "    </tr>\n",
       "    <tr>\n",
       "      <th>^GSPC</th>\n",
       "      <td>0.011351</td>\n",
       "      <td>0.022104</td>\n",
       "    </tr>\n",
       "  </tbody>\n",
       "</table>\n",
       "</div>"
      ],
      "text/plain": [
       "             PG     ^GSPC\n",
       "PG     0.020823  0.011351\n",
       "^GSPC  0.011351  0.022104"
      ]
     },
     "execution_count": 10,
     "metadata": {},
     "output_type": "execute_result"
    }
   ],
   "source": [
    "log_return.cov()*250"
   ]
  },
  {
   "cell_type": "code",
   "execution_count": 11,
   "metadata": {},
   "outputs": [
    {
     "data": {
      "text/html": [
       "<div>\n",
       "<style scoped>\n",
       "    .dataframe tbody tr th:only-of-type {\n",
       "        vertical-align: middle;\n",
       "    }\n",
       "\n",
       "    .dataframe tbody tr th {\n",
       "        vertical-align: top;\n",
       "    }\n",
       "\n",
       "    .dataframe thead th {\n",
       "        text-align: right;\n",
       "    }\n",
       "</style>\n",
       "<table border=\"1\" class=\"dataframe\">\n",
       "  <thead>\n",
       "    <tr style=\"text-align: right;\">\n",
       "      <th></th>\n",
       "      <th>PG</th>\n",
       "      <th>^GSPC</th>\n",
       "    </tr>\n",
       "  </thead>\n",
       "  <tbody>\n",
       "    <tr>\n",
       "      <th>PG</th>\n",
       "      <td>1.000000</td>\n",
       "      <td>0.529076</td>\n",
       "    </tr>\n",
       "    <tr>\n",
       "      <th>^GSPC</th>\n",
       "      <td>0.529076</td>\n",
       "      <td>1.000000</td>\n",
       "    </tr>\n",
       "  </tbody>\n",
       "</table>\n",
       "</div>"
      ],
      "text/plain": [
       "             PG     ^GSPC\n",
       "PG     1.000000  0.529076\n",
       "^GSPC  0.529076  1.000000"
      ]
     },
     "execution_count": 11,
     "metadata": {},
     "output_type": "execute_result"
    }
   ],
   "source": [
    "log_return.corr()"
   ]
  },
  {
   "cell_type": "code",
   "execution_count": 16,
   "metadata": {},
   "outputs": [],
   "source": [
    "num_assets = len(x)"
   ]
  },
  {
   "cell_type": "code",
   "execution_count": 17,
   "metadata": {},
   "outputs": [
    {
     "data": {
      "text/plain": [
       "2"
      ]
     },
     "execution_count": 17,
     "metadata": {},
     "output_type": "execute_result"
    }
   ],
   "source": [
    "num_assets"
   ]
  },
  {
   "cell_type": "code",
   "execution_count": 18,
   "metadata": {},
   "outputs": [],
   "source": [
    "weights = np.random.random(num_assets)\n",
    "weights /= np.sum(weights)"
   ]
  },
  {
   "cell_type": "code",
   "execution_count": 19,
   "metadata": {},
   "outputs": [
    {
     "data": {
      "text/plain": [
       "array([0.52416925, 0.47583075])"
      ]
     },
     "execution_count": 19,
     "metadata": {},
     "output_type": "execute_result"
    }
   ],
   "source": [
    "weights"
   ]
  },
  {
   "cell_type": "code",
   "execution_count": 20,
   "metadata": {},
   "outputs": [],
   "source": [
    "port_return = np.sum(weights*log_return.mean())*250"
   ]
  },
  {
   "cell_type": "code",
   "execution_count": 21,
   "metadata": {},
   "outputs": [
    {
     "data": {
      "text/plain": [
       "0.08091293482680939"
      ]
     },
     "execution_count": 21,
     "metadata": {},
     "output_type": "execute_result"
    }
   ],
   "source": [
    "port_return"
   ]
  },
  {
   "cell_type": "code",
   "execution_count": 26,
   "metadata": {},
   "outputs": [
    {
     "data": {
      "text/plain": [
       "0.016387766925334335"
      ]
     },
     "execution_count": 26,
     "metadata": {},
     "output_type": "execute_result"
    }
   ],
   "source": [
    "port_var = np.dot(weights.T,np.dot(log_return.cov()*250,weights))\n",
    "port_var"
   ]
  },
  {
   "cell_type": "code",
   "execution_count": null,
   "metadata": {},
   "outputs": [],
   "source": []
  },
  {
   "cell_type": "code",
   "execution_count": 27,
   "metadata": {},
   "outputs": [
    {
     "data": {
      "text/plain": [
       "0.016387766925334335"
      ]
     },
     "execution_count": 27,
     "metadata": {},
     "output_type": "execute_result"
    }
   ],
   "source": [
    "port_var"
   ]
  },
  {
   "cell_type": "code",
   "execution_count": 29,
   "metadata": {},
   "outputs": [],
   "source": [
    "port_vol=[]\n",
    "port_ret=[]\n",
    "for x in range(1000):\n",
    "    weights = np.random.random(num_assets)\n",
    "    weights /= np.sum(weights);\n",
    "    port_ret.append(np.sum(weights*log_return.mean())*250)\n",
    "    port_vol.append(np.sqrt(np.dot(weights.T,np.dot(log_return.cov()*250,weights))))\n",
    "port_vol = np.array(port_vol)\n",
    "port_ret = np.array(port_ret)"
   ]
  },
  {
   "cell_type": "code",
   "execution_count": 30,
   "metadata": {},
   "outputs": [
    {
     "data": {
      "text/plain": [
       "array([0.1430849 , 0.12823624, 0.13033362, 0.14657913, 0.12855458,\n",
       "       0.1339289 , 0.13608362, 0.12801035, 0.14543255, 0.14699516,\n",
       "       0.13135998, 0.13009141, 0.13062509, 0.13263453, 0.12880963,\n",
       "       0.1375739 , 0.13473824, 0.12808546, 0.13648932, 0.13767704,\n",
       "       0.12842465, 0.13087804, 0.13129021, 0.14387835, 0.13609953,\n",
       "       0.13482093, 0.12817472, 0.13556729, 0.13064067, 0.12803527,\n",
       "       0.12817878, 0.12928294, 0.14544452, 0.13049131, 0.14118923,\n",
       "       0.14392208, 0.12999715, 0.13047721, 0.12882541, 0.12804789,\n",
       "       0.13454204, 0.1284112 , 0.13351446, 0.12804891, 0.12826823,\n",
       "       0.13438178, 0.13176018, 0.12804716, 0.12805119, 0.13071969,\n",
       "       0.13094747, 0.12842646, 0.12811549, 0.14391939, 0.12826914,\n",
       "       0.1296569 , 0.14026923, 0.12824225, 0.1301324 , 0.13173675,\n",
       "       0.12871267, 0.13094165, 0.12815212, 0.12950329, 0.12818246,\n",
       "       0.12850225, 0.12805443, 0.13777403, 0.12936797, 0.12956738,\n",
       "       0.14081598, 0.13481908, 0.1280177 , 0.12803628, 0.1328844 ,\n",
       "       0.12801964, 0.13677212, 0.12994263, 0.13751828, 0.13347636,\n",
       "       0.14712394, 0.13931554, 0.13987837, 0.13669517, 0.13186572,\n",
       "       0.12847479, 0.12814077, 0.13110196, 0.12826834, 0.13091811,\n",
       "       0.14820051, 0.14828614, 0.14331518, 0.14200224, 0.12802361,\n",
       "       0.12805835, 0.12958766, 0.12813313, 0.13156494, 0.14361655,\n",
       "       0.1354239 , 0.13239069, 0.12821727, 0.13584851, 0.12856509,\n",
       "       0.12874168, 0.1336694 , 0.1304921 , 0.13664485, 0.13309815,\n",
       "       0.12803588, 0.12819289, 0.1430677 , 0.13104884, 0.12890226,\n",
       "       0.13347468, 0.12965553, 0.1338032 , 0.13053123, 0.12825122,\n",
       "       0.13153282, 0.13470191, 0.12878531, 0.13781873, 0.13447398,\n",
       "       0.14582199, 0.12850937, 0.12806618, 0.14675617, 0.13008636,\n",
       "       0.14271698, 0.12924184, 0.12920865, 0.14142322, 0.12803722,\n",
       "       0.12936916, 0.12827374, 0.13061261, 0.12937205, 0.12990139,\n",
       "       0.1360907 , 0.13512542, 0.12832227, 0.12843875, 0.12987743,\n",
       "       0.13157912, 0.12802609, 0.14217265, 0.12852724, 0.13701532,\n",
       "       0.13765606, 0.13236034, 0.1281098 , 0.12888654, 0.12856974,\n",
       "       0.13711807, 0.13078167, 0.13193108, 0.12801816, 0.12801282,\n",
       "       0.12871339, 0.12814089, 0.12808767, 0.12811369, 0.12913988,\n",
       "       0.13398156, 0.13694756, 0.13119243, 0.12803931, 0.13178375,\n",
       "       0.12839293, 0.13785121, 0.12826461, 0.12814584, 0.12859198,\n",
       "       0.12889714, 0.12842352, 0.13187464, 0.14017603, 0.13349036,\n",
       "       0.12803135, 0.13130029, 0.12983498, 0.12905464, 0.13774126,\n",
       "       0.12875395, 0.14190367, 0.12814487, 0.12867809, 0.12813942,\n",
       "       0.12931224, 0.1280869 , 0.13650111, 0.12959287, 0.1283708 ,\n",
       "       0.12801333, 0.14637238, 0.12923329, 0.12814143, 0.12982244,\n",
       "       0.13702425, 0.1361723 , 0.12801119, 0.12859883, 0.12899593,\n",
       "       0.13157082, 0.12933036, 0.13024687, 0.12854806, 0.12903797,\n",
       "       0.13883332, 0.12803951, 0.13532126, 0.13827663, 0.13893514,\n",
       "       0.12806663, 0.14248384, 0.13088629, 0.14455948, 0.13542723,\n",
       "       0.12950307, 0.12801263, 0.13366876, 0.13539799, 0.1282772 ,\n",
       "       0.12833395, 0.12802585, 0.12882487, 0.13074954, 0.13200592,\n",
       "       0.130363  , 0.1285286 , 0.12843492, 0.14206812, 0.13141005,\n",
       "       0.13099732, 0.12978911, 0.139383  , 0.13698128, 0.12892407,\n",
       "       0.12803357, 0.12827153, 0.12864162, 0.1470027 , 0.14726417,\n",
       "       0.12884161, 0.12812161, 0.12920206, 0.12880631, 0.13098951,\n",
       "       0.12953772, 0.13050931, 0.12801311, 0.12906202, 0.1358145 ,\n",
       "       0.13043897, 0.13874158, 0.12806509, 0.12858627, 0.13099476,\n",
       "       0.14606333, 0.13045547, 0.14722239, 0.1316049 , 0.12802975,\n",
       "       0.12823775, 0.14056097, 0.13737469, 0.13624997, 0.138714  ,\n",
       "       0.13651367, 0.12805445, 0.12814805, 0.12839989, 0.14386683,\n",
       "       0.12813342, 0.12842738, 0.14224028, 0.12804629, 0.14322817,\n",
       "       0.12844366, 0.13387214, 0.12875424, 0.12801492, 0.12801718,\n",
       "       0.14251866, 0.1348464 , 0.13407609, 0.12802127, 0.12820507,\n",
       "       0.1280451 , 0.12821565, 0.13074278, 0.13680557, 0.12821437,\n",
       "       0.12846733, 0.13363373, 0.13759035, 0.12823848, 0.12825361,\n",
       "       0.12905856, 0.13420624, 0.12943085, 0.1292    , 0.14156265,\n",
       "       0.13015854, 0.12802861, 0.13566028, 0.1282257 , 0.12878771,\n",
       "       0.13017322, 0.1350436 , 0.13690946, 0.12820246, 0.13492496,\n",
       "       0.13424113, 0.12941446, 0.14243309, 0.13733891, 0.13175784,\n",
       "       0.1282494 , 0.12893322, 0.12817646, 0.13349993, 0.12805167,\n",
       "       0.12933523, 0.13609676, 0.12878048, 0.13848838, 0.12846102,\n",
       "       0.12879235, 0.12814776, 0.13153542, 0.12801082, 0.12814282,\n",
       "       0.12801077, 0.13085142, 0.12833926, 0.12913902, 0.13942958,\n",
       "       0.13120164, 0.14535741, 0.12975641, 0.12869459, 0.13417742,\n",
       "       0.13219576, 0.12801083, 0.13113577, 0.12822399, 0.13686558,\n",
       "       0.13092458, 0.13941405, 0.12885092, 0.13505732, 0.12833358,\n",
       "       0.13430391, 0.12828753, 0.14148295, 0.13359775, 0.13343306,\n",
       "       0.12913258, 0.1295638 , 0.12884553, 0.12811145, 0.12862118,\n",
       "       0.14301806, 0.12844189, 0.1293095 , 0.1294224 , 0.12832569,\n",
       "       0.13364432, 0.13194633, 0.12801086, 0.12805227, 0.13593565,\n",
       "       0.13091242, 0.13250821, 0.14489094, 0.14282691, 0.12990675,\n",
       "       0.12858037, 0.13946386, 0.13358816, 0.13502057, 0.12888984,\n",
       "       0.1288783 , 0.13570253, 0.12805586, 0.12867377, 0.13054688,\n",
       "       0.13398183, 0.12932749, 0.12801039, 0.12822786, 0.12821605,\n",
       "       0.13508757, 0.13349474, 0.12967187, 0.13479223, 0.1343439 ,\n",
       "       0.13428434, 0.13020749, 0.12809211, 0.12846554, 0.12926446,\n",
       "       0.14574754, 0.13451695, 0.12815108, 0.12802221, 0.13650249,\n",
       "       0.12904118, 0.12804971, 0.12801042, 0.12842781, 0.12943234,\n",
       "       0.12807476, 0.13195097, 0.12825357, 0.1337    , 0.12884987,\n",
       "       0.12980209, 0.12843852, 0.12861089, 0.12850762, 0.1357841 ,\n",
       "       0.12823105, 0.1280145 , 0.12818807, 0.12801451, 0.12807351,\n",
       "       0.1291862 , 0.14279686, 0.12804109, 0.134144  , 0.13875165,\n",
       "       0.13661468, 0.1280705 , 0.12803251, 0.13575285, 0.13948006,\n",
       "       0.12904348, 0.13679661, 0.12827975, 0.1389846 , 0.12837323,\n",
       "       0.13351603, 0.12944441, 0.12802154, 0.14589917, 0.12874187,\n",
       "       0.12816183, 0.13329701, 0.12803818, 0.12813516, 0.14075675,\n",
       "       0.13340991, 0.13002762, 0.13005055, 0.12864494, 0.1283936 ,\n",
       "       0.12887559, 0.1290241 , 0.12852972, 0.13369766, 0.13007679,\n",
       "       0.12930703, 0.13403246, 0.12895146, 0.13717631, 0.14026937,\n",
       "       0.13076843, 0.12806069, 0.12980858, 0.13319144, 0.13299163,\n",
       "       0.129143  , 0.1300851 , 0.13600103, 0.13669809, 0.1280143 ,\n",
       "       0.12848513, 0.12825466, 0.13955323, 0.133464  , 0.12817271,\n",
       "       0.14120361, 0.12987797, 0.13003816, 0.14617603, 0.12887285,\n",
       "       0.13260813, 0.13167029, 0.12862894, 0.1365176 , 0.12850934,\n",
       "       0.12812825, 0.12802022, 0.12822789, 0.12822103, 0.13700867,\n",
       "       0.1280284 , 0.12871412, 0.13597617, 0.12814583, 0.12959098,\n",
       "       0.12887426, 0.13098658, 0.13821951, 0.1439334 , 0.12825075,\n",
       "       0.12842216, 0.14334183, 0.12817157, 0.12954806, 0.14048595,\n",
       "       0.12928614, 0.13138682, 0.12945869, 0.128615  , 0.13136727,\n",
       "       0.12883523, 0.13480447, 0.13696169, 0.13451717, 0.12935871,\n",
       "       0.13331632, 0.13162333, 0.14290282, 0.1285892 , 0.1438839 ,\n",
       "       0.12841163, 0.12848278, 0.14847171, 0.1350366 , 0.13339965,\n",
       "       0.12824177, 0.13183004, 0.12941394, 0.14032626, 0.13138005,\n",
       "       0.12803513, 0.12877544, 0.12820852, 0.13518495, 0.12801558,\n",
       "       0.13862924, 0.13672981, 0.14650394, 0.14536756, 0.13180818,\n",
       "       0.13466053, 0.13694212, 0.1316428 , 0.14061558, 0.14430803,\n",
       "       0.13484642, 0.1404915 , 0.12818659, 0.13202005, 0.1310078 ,\n",
       "       0.12918279, 0.12876301, 0.13531261, 0.14663294, 0.1298681 ,\n",
       "       0.12866653, 0.12942582, 0.13159652, 0.13167041, 0.12803643,\n",
       "       0.13366176, 0.12848026, 0.14345785, 0.12824939, 0.13127778,\n",
       "       0.13151469, 0.13225044, 0.1284022 , 0.12880092, 0.13548458,\n",
       "       0.12881968, 0.12861248, 0.12809773, 0.13169753, 0.1391423 ,\n",
       "       0.12986981, 0.13973564, 0.13920551, 0.12908572, 0.14292856,\n",
       "       0.1292961 , 0.14520188, 0.14679968, 0.12883836, 0.13144615,\n",
       "       0.13296664, 0.14110391, 0.12976461, 0.14095262, 0.12855718,\n",
       "       0.14447169, 0.13038169, 0.13352998, 0.1281416 , 0.13030967,\n",
       "       0.13116506, 0.13773118, 0.13772826, 0.13741011, 0.13150469,\n",
       "       0.12801823, 0.12898859, 0.13559155, 0.13546942, 0.13147518,\n",
       "       0.1288283 , 0.13771813, 0.13027834, 0.12825918, 0.13073529,\n",
       "       0.13428213, 0.13421595, 0.12817647, 0.13081284, 0.1282601 ,\n",
       "       0.13049096, 0.12902847, 0.12807986, 0.1481235 , 0.14345153,\n",
       "       0.1406172 , 0.12806075, 0.13451697, 0.13753895, 0.13151708,\n",
       "       0.12802008, 0.1281949 , 0.1337016 , 0.1384227 , 0.13304913,\n",
       "       0.147699  , 0.12801064, 0.14011026, 0.13304494, 0.12803045,\n",
       "       0.13166891, 0.1283284 , 0.13011416, 0.12804501, 0.13098117,\n",
       "       0.13141029, 0.13456048, 0.1374794 , 0.13087372, 0.13055358,\n",
       "       0.12966591, 0.14422699, 0.12833079, 0.12801043, 0.13012616,\n",
       "       0.12859157, 0.14066949, 0.12802809, 0.1366621 , 0.1281108 ,\n",
       "       0.13721309, 0.13141815, 0.12817466, 0.12863471, 0.13156539,\n",
       "       0.12842207, 0.12801069, 0.12804308, 0.1295154 , 0.12802087,\n",
       "       0.13879865, 0.13348366, 0.12803705, 0.12871774, 0.12865784,\n",
       "       0.14137771, 0.1297065 , 0.12806967, 0.13260435, 0.12801647,\n",
       "       0.13427082, 0.13161402, 0.14056055, 0.14025404, 0.12937724,\n",
       "       0.1308354 , 0.12820381, 0.13770464, 0.13645317, 0.14356641,\n",
       "       0.14583145, 0.12911615, 0.13501657, 0.12932718, 0.1280103 ,\n",
       "       0.12857518, 0.13027487, 0.12925896, 0.13905602, 0.13314534,\n",
       "       0.12832405, 0.12825126, 0.12817646, 0.13742849, 0.14231066,\n",
       "       0.12801888, 0.13005882, 0.12806927, 0.12959686, 0.12817982,\n",
       "       0.13001914, 0.14437519, 0.13337609, 0.12801415, 0.13391181,\n",
       "       0.12806861, 0.13330003, 0.14777188, 0.1374714 , 0.12867253,\n",
       "       0.13767135, 0.13287725, 0.14084903, 0.12973015, 0.12803043,\n",
       "       0.13598156, 0.13194034, 0.13793881, 0.12814485, 0.12819514,\n",
       "       0.12815405, 0.12959979, 0.12810476, 0.14094486, 0.12929012,\n",
       "       0.13459011, 0.12833183, 0.12872537, 0.13108361, 0.13103766,\n",
       "       0.13654854, 0.12859238, 0.12810421, 0.14143982, 0.12945635,\n",
       "       0.1304874 , 0.13033777, 0.13281728, 0.14297762, 0.12805353,\n",
       "       0.13252789, 0.13109047, 0.12913606, 0.12863921, 0.1280774 ,\n",
       "       0.1286729 , 0.12801029, 0.13311181, 0.12824691, 0.1281671 ,\n",
       "       0.13375099, 0.13616656, 0.12808523, 0.14585842, 0.12806386,\n",
       "       0.13433716, 0.14064822, 0.12927241, 0.12820856, 0.12822598,\n",
       "       0.12807588, 0.13674468, 0.12806006, 0.12916504, 0.13612552,\n",
       "       0.12813852, 0.14132273, 0.12802139, 0.12986919, 0.12959811,\n",
       "       0.13324724, 0.13617853, 0.12806177, 0.12961881, 0.12826634,\n",
       "       0.13430963, 0.12803404, 0.12828677, 0.1287894 , 0.13275935,\n",
       "       0.12805579, 0.12808785, 0.1433712 , 0.12834636, 0.12845324,\n",
       "       0.13894707, 0.12908748, 0.1318504 , 0.1291163 , 0.12842381,\n",
       "       0.1296184 , 0.13461226, 0.1361551 , 0.12801351, 0.12817464,\n",
       "       0.12844503, 0.12807442, 0.1280353 , 0.12804391, 0.13896632,\n",
       "       0.1295053 , 0.12826666, 0.13134899, 0.14257137, 0.13925521,\n",
       "       0.13773248, 0.12820909, 0.14219457, 0.14016676, 0.14804395,\n",
       "       0.12829621, 0.12965419, 0.13788562, 0.13173425, 0.1311694 ,\n",
       "       0.12801692, 0.1280164 , 0.13449848, 0.13406367, 0.13218239,\n",
       "       0.12830082, 0.12912943, 0.12849339, 0.13273724, 0.12860135,\n",
       "       0.12816695, 0.13841858, 0.13171338, 0.1282497 , 0.12999505,\n",
       "       0.12808255, 0.12807231, 0.12901331, 0.12930351, 0.13041542,\n",
       "       0.13546553, 0.12816203, 0.12802234, 0.13574968, 0.12965371,\n",
       "       0.1280543 , 0.13089128, 0.13036693, 0.12895328, 0.13893576,\n",
       "       0.13138588, 0.12805089, 0.12905905, 0.13241361, 0.13577153,\n",
       "       0.1340527 , 0.12893199, 0.1311508 , 0.13059245, 0.12858014,\n",
       "       0.13655206, 0.13042046, 0.12862904, 0.13222972, 0.13525687,\n",
       "       0.12833908, 0.12830883, 0.13453115, 0.12975178, 0.12829816,\n",
       "       0.14355349, 0.13567757, 0.12801053, 0.12859765, 0.13325759,\n",
       "       0.13864071, 0.13152675, 0.13840797, 0.128927  , 0.12801875,\n",
       "       0.14083433, 0.13051153, 0.13070229, 0.12820975, 0.12838011,\n",
       "       0.1286936 , 0.13190161, 0.13007312, 0.13065863, 0.14738114,\n",
       "       0.1350656 , 0.14755415, 0.14148682, 0.13298044, 0.1377458 ,\n",
       "       0.14035021, 0.13849174, 0.14253895, 0.1280112 , 0.12880409,\n",
       "       0.14023839, 0.12931213, 0.12801038, 0.13477289, 0.12830864,\n",
       "       0.13804341, 0.12886555, 0.14019982, 0.12858751, 0.129715  ,\n",
       "       0.12916004, 0.13815392, 0.14012349, 0.12808394, 0.13407746,\n",
       "       0.12844982, 0.13120954, 0.12853167, 0.12970642, 0.12885522,\n",
       "       0.12991044, 0.13471343, 0.12907583, 0.12801479, 0.12809629,\n",
       "       0.13128426, 0.13171837, 0.12988258, 0.12816105, 0.1281992 ,\n",
       "       0.1282727 , 0.13346844, 0.12939632, 0.13198678, 0.12801049,\n",
       "       0.14041901, 0.13373768, 0.12848733, 0.12808905, 0.13315019,\n",
       "       0.13194087, 0.12801337, 0.12885301, 0.12801092, 0.1325396 ,\n",
       "       0.13126612, 0.14301542, 0.13089113, 0.12803808, 0.13066634,\n",
       "       0.12876099, 0.12808274, 0.1280858 , 0.13989278, 0.13268083,\n",
       "       0.13325326, 0.14605774, 0.14216868, 0.12980049, 0.14701646,\n",
       "       0.12823468, 0.13031334, 0.12824363, 0.14043158, 0.12827331,\n",
       "       0.14287654, 0.13096093, 0.14349981, 0.12842064, 0.14683307,\n",
       "       0.1303917 , 0.12824569, 0.14072987, 0.12971731, 0.1281366 ,\n",
       "       0.14387415, 0.12801331, 0.12981641, 0.13176681, 0.12801035,\n",
       "       0.12954603, 0.13796551, 0.1311704 , 0.13091224, 0.12823902,\n",
       "       0.13915181, 0.1388163 , 0.12813265, 0.13176662, 0.13201497])"
      ]
     },
     "execution_count": 30,
     "metadata": {},
     "output_type": "execute_result"
    }
   ],
   "source": [
    "port_vol"
   ]
  },
  {
   "cell_type": "code",
   "execution_count": 31,
   "metadata": {},
   "outputs": [],
   "source": [
    "portfolio_eff = pd.DataFrame({'Returns':port_ret,'Volatility':port_vol})"
   ]
  },
  {
   "cell_type": "code",
   "execution_count": 33,
   "metadata": {
    "scrolled": true
   },
   "outputs": [
    {
     "data": {
      "text/html": [
       "<div>\n",
       "<style scoped>\n",
       "    .dataframe tbody tr th:only-of-type {\n",
       "        vertical-align: middle;\n",
       "    }\n",
       "\n",
       "    .dataframe tbody tr th {\n",
       "        vertical-align: top;\n",
       "    }\n",
       "\n",
       "    .dataframe thead th {\n",
       "        text-align: right;\n",
       "    }\n",
       "</style>\n",
       "<table border=\"1\" class=\"dataframe\">\n",
       "  <thead>\n",
       "    <tr style=\"text-align: right;\">\n",
       "      <th></th>\n",
       "      <th>Returns</th>\n",
       "      <th>Volatility</th>\n",
       "    </tr>\n",
       "  </thead>\n",
       "  <tbody>\n",
       "    <tr>\n",
       "      <th>0</th>\n",
       "      <td>0.076833</td>\n",
       "      <td>0.143085</td>\n",
       "    </tr>\n",
       "    <tr>\n",
       "      <th>1</th>\n",
       "      <td>0.081324</td>\n",
       "      <td>0.128236</td>\n",
       "    </tr>\n",
       "    <tr>\n",
       "      <th>2</th>\n",
       "      <td>0.079308</td>\n",
       "      <td>0.130334</td>\n",
       "    </tr>\n",
       "    <tr>\n",
       "      <th>3</th>\n",
       "      <td>0.085328</td>\n",
       "      <td>0.146579</td>\n",
       "    </tr>\n",
       "    <tr>\n",
       "      <th>4</th>\n",
       "      <td>0.081588</td>\n",
       "      <td>0.128555</td>\n",
       "    </tr>\n",
       "  </tbody>\n",
       "</table>\n",
       "</div>"
      ],
      "text/plain": [
       "    Returns  Volatility\n",
       "0  0.076833    0.143085\n",
       "1  0.081324    0.128236\n",
       "2  0.079308    0.130334\n",
       "3  0.085328    0.146579\n",
       "4  0.081588    0.128555"
      ]
     },
     "execution_count": 33,
     "metadata": {},
     "output_type": "execute_result"
    }
   ],
   "source": [
    "portfolio_eff.head()"
   ]
  },
  {
   "cell_type": "code",
   "execution_count": 34,
   "metadata": {},
   "outputs": [
    {
     "data": {
      "text/plain": [
       "Text(0,0.5,'Returns')"
      ]
     },
     "execution_count": 34,
     "metadata": {},
     "output_type": "execute_result"
    },
    {
     "data": {
      "image/png": "[encoded data removed]",
      "text/plain": [
       "<Figure size 720x432 with 1 Axes>"
      ]
     },
     "metadata": {},
     "output_type": "display_data"
    }
   ],
   "source": [
    "portfolio_eff.plot(x = 'Volatility',y = 'Returns',kind = 'scatter',figsize=(10,6))\n",
    "plt.xlabel('Volatility')\n",
    "plt.ylabel('Returns')"
   ]
  },
  {
   "cell_type": "code",
   "execution_count": null,
   "metadata": {},
   "outputs": [],
   "source": []
  }
 ],
 "metadata": {
  "kernelspec": {
   "display_name": "Python 3",
   "language": "python",
   "name": "python3"
  },
  "language_info": {
   "codemirror_mode": {
    "name": "ipython",
    "version": 3
   },
   "file_extension": ".py",
   "mimetype": "text/x-python",
   "name": "python",
   "nbconvert_exporter": "python",
   "pygments_lexer": "ipython3",
   "version": "3.6.5"
  }
 },
 "nbformat": 4,
 "nbformat_minor": 2
}
